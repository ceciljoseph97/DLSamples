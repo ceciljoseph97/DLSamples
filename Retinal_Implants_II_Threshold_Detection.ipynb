{
 "cells": [
  {
   "cell_type": "markdown",
   "metadata": {
    "id": "I2SLXIw3p1Mq"
   },
   "source": [
    "# **Retinal Implants II: Threshold Detection**\n",
    "<br>\n",
    "Tasks Done In Demo:<br>\n",
    "\n",
    "Familiarizing with the dataset(Horsager et al. (2009))<br>\n"
   ]
  },
  {
   "cell_type": "code",
   "execution_count": 2,
   "metadata": {
    "id": "SLESizjipv13"
   },
   "outputs": [],
   "source": [
    "%matplotlib inline\n",
    "#Use/uncomment below distribution installations only during environment setup else comment it \n",
    "#!pip install pulse2percept\n",
    "#!pip install --upgrade numpy"
   ]
  },
  {
   "cell_type": "markdown",
   "metadata": {
    "id": "xBm-j3hAqRdd"
   },
   "source": [
    "## Loading the dataset\n",
    "\n",
    "The dataset can be loaded as a Pandas ``DataFrame``:"
   ]
  },
  {
   "cell_type": "code",
   "execution_count": 3,
   "metadata": {
    "id": "hm8xTKZcqRq7"
   },
   "outputs": [
    {
     "name": "stderr",
     "output_type": "stream",
     "text": [
      "C:\\ProgramData\\Anaconda3\\lib\\site-packages\\scipy\\__init__.py:138: UserWarning: A NumPy version >=1.16.5 and <1.23.0 is required for this version of SciPy (detected version 1.23.5)\n",
      "  warnings.warn(f\"A NumPy version >={np_minversion} and <{np_maxversion} is required for this version of \"\n"
     ]
    }
   ],
   "source": [
    "from pulse2percept.datasets import load_horsager2009\n",
    "data = load_horsager2009()\n",
    "#data.describe()\n",
    "#print(data)"
   ]
  },
  {
   "cell_type": "code",
   "execution_count": 4,
   "metadata": {
    "colab": {
     "base_uri": "https://localhost:8080/"
    },
    "id": "h2ggwhSDrMAh",
    "outputId": "b803f945-1425-4c06-dd59-a60c70b644b0"
   },
   "outputs": [
    {
     "name": "stdout",
     "output_type": "stream",
     "text": [
      "`2` patients, subject: ['S05' 'S06']\n"
     ]
    }
   ],
   "source": [
    "print(\"`{}` patients, subject: {}\".format(len(data.subject.unique()),data.subject.unique()))"
   ]
  },
  {
   "cell_type": "markdown",
   "metadata": {
    "id": "TY81jg7HrTHT"
   },
   "source": [
    "**Electrodes that were tested for which subject**\n",
    "\n",
    "9 electrodes were used to test each subject {`C3`,`A1`,`B3`,`C2`,`B1`,`C4`,`B2`,`D1`,`A2`}"
   ]
  },
  {
   "cell_type": "code",
   "execution_count": 5,
   "metadata": {
    "colab": {
     "base_uri": "https://localhost:8080/"
    },
    "id": "pFmdn0SArWvg",
    "outputId": "f8b65865-4b05-4286-9829-1a6b31a97ebd"
   },
   "outputs": [
    {
     "name": "stdout",
     "output_type": "stream",
     "text": [
      "C3, A1, B3, C2, B1, C4, B2, D1, A2, "
     ]
    }
   ],
   "source": [
    "for i in data.electrode.unique():\n",
    "  print(i,end=\", \")"
   ]
  },
  {
   "cell_type": "markdown",
   "metadata": {
    "id": "a7GTE1Pnrpew"
   },
   "source": [
    "\n",
    "Different stimulus types used\n",
    "\n",
    "7 types of stimulus were used in this research, They are {`single_pulse`, `fixed_duration`, `variable_duration`, `fixed_duration_supra`, `bursting_triplets`, `bursting_triplets_supra`, `latent_addition`}"
   ]
  },
  {
   "cell_type": "code",
   "execution_count": 6,
   "metadata": {
    "colab": {
     "base_uri": "https://localhost:8080/"
    },
    "id": "OB8hl1kMrp38",
    "outputId": "ba373098-8d1c-4125-e68a-826d54ef36e7"
   },
   "outputs": [
    {
     "name": "stdout",
     "output_type": "stream",
     "text": [
      "single_pulse, fixed_duration, variable_duration, fixed_duration_supra, bursting_triplets, bursting_triplets_supra, latent_addition, "
     ]
    }
   ],
   "source": [
    "for i in data.stim_type.unique():\n",
    "  print(i,end=\", \")"
   ]
  },
  {
   "cell_type": "code",
   "execution_count": 7,
   "metadata": {
    "colab": {
     "base_uri": "https://localhost:8080/"
    },
    "id": "L3fcX8Ugrqg3",
    "outputId": "895e9414-6e1f-4289-e047-5282c13ea881"
   },
   "outputs": [
    {
     "name": "stdout",
     "output_type": "stream",
     "text": [
      "Patient with highest threshold current = S06 and Electrode stimulation done with the electrode D1. Max threshold current obtained is 445.880312\n",
      "Pulse Duration used = 0.075\n",
      "Patient with lowest threshold current = S05 and Electrode stimulation done with the electrode C2. Min threshold current obtained is 11.466683\n",
      "Pulse Duration used = 4.0\n"
     ]
    }
   ],
   "source": [
    "#using single_pulse data\n",
    "singlePulseData=data[data['stim_type']=='single_pulse']\n",
    "#singlePulseData=data.loc[(data['stim_type']=='single_pulse') & (data['task']=='threshold')]\n",
    "\n",
    "\n",
    "#Patient with max threshold current Pulse Duration used\n",
    "paMaxThres=singlePulseData[singlePulseData['stim_amp'] == singlePulseData['stim_amp'].max()]\n",
    "print(\"Patient with highest threshold current = {} and Electrode stimulation done with the electrode {}. Max threshold current obtained is {}\"\n",
    ".format(paMaxThres.subject.to_string(index = False),paMaxThres.electrode.to_string(index = False),paMaxThres['stim_amp'].to_string(index = False)))\n",
    "print(\"Pulse Duration used = {}\".format(paMaxThres.pulse_dur.to_string(index = False)))\n",
    "\n",
    "#Patient with min threshold Current and Pulse Duration used\n",
    "paMinThres=singlePulseData[singlePulseData['stim_amp'] == singlePulseData['stim_amp'].min()]\n",
    "print(\"Patient with lowest threshold current = {} and Electrode stimulation done with the electrode {}. Min threshold current obtained is {}\"\n",
    ".format(paMinThres.subject.to_string(index = False),paMinThres.electrode.to_string(index = False),paMinThres['stim_amp'].to_string(index = False)))\n",
    "print(\"Pulse Duration used = {}\".format(paMinThres.pulse_dur.to_string(index = False)))\n",
    "#singlePulseData[singlePulseData['stim_amp'] == singlePulseData['stim_amp'].max()]"
   ]
  },
  {
   "cell_type": "code",
   "execution_count": 8,
   "metadata": {
    "id": "7TbiQwJbrq63"
   },
   "outputs": [],
   "source": [
    "import numpy as np\n",
    "s06SPEc2=data.loc[(data['subject']=='S06') & (data['electrode']=='C2') & (data['stim_type']=='single_pulse')]\n",
    "#s06SPEc2 = load_horsager2009(subjects='S06', electrodes='C2',stim_types='single_pulse')"
   ]
  },
  {
   "cell_type": "markdown",
   "metadata": {
    "id": "CDQn2aBorrHt"
   },
   "source": [
    "We want to find the threshold of seeing a stimulus 50% of the time with our\n",
    "model. Since for the model we cannot define the threshold as ‘seeing\n",
    "something 50% of the time’, a constant threshold is defined that the model\n",
    "needs to reach. This threshold is found in the column ‘theta’ in the dataset.\n",
    "<br>"
   ]
  },
  {
   "cell_type": "code",
   "execution_count": 9,
   "metadata": {
    "colab": {
     "base_uri": "https://localhost:8080/"
    },
    "id": "X9XbJuQjrrUG",
    "outputId": "57121121-38bd-430b-d103-82af29234d4f"
   },
   "outputs": [
    {
     "name": "stdout",
     "output_type": "stream",
     "text": [
      "The Value of  constant threshold for a stimulus 50% with the model 1612.5\n"
     ]
    },
    {
     "data": {
      "text/plain": [
       "Horsager2009Temporal(beta=3.43, dt=0.005, eps=2.25, \n",
       "                     n_threads=8, tau1=0.42, tau2=45.25, \n",
       "                     tau3=26.25, thresh_percept=0, \n",
       "                     verbose=True)"
      ]
     },
     "execution_count": 9,
     "metadata": {},
     "output_type": "execute_result"
    }
   ],
   "source": [
    "print(\"The Value of  constant threshold for a stimulus 50% with the model {}\".format(s06SPEc2['theta'].iloc[0]))\n",
    "\n",
    "from pulse2percept.models import Horsager2009Temporal\n",
    "model = Horsager2009Temporal()\n",
    "#Bulding the model to perform all expensive one-time calculations. \n",
    "model.build()"
   ]
  },
  {
   "cell_type": "code",
   "execution_count": 10,
   "metadata": {
    "colab": {
     "base_uri": "https://localhost:8080/"
    },
    "id": "1PflARpMt7pj",
    "outputId": "02a84ffd-234a-4a23-ee6f-34cac8220648"
   },
   "outputs": [
    {
     "data": {
      "text/plain": [
       "[0    382.788226\n",
       " 1    222.807475\n",
       " 2    153.103322\n",
       " 3     82.706060\n",
       " 4     69.113388\n",
       " 5     44.675045\n",
       " 6     31.398787\n",
       " 7     24.534255\n",
       " Name: stim_amp, dtype: float64]"
      ]
     },
     "execution_count": 10,
     "metadata": {},
     "output_type": "execute_result"
    }
   ],
   "source": [
    "s06SPEc2.reset_index(drop=True, inplace=True)\n",
    "stim_amp_old=[s06SPEc2['stim_amp']]\n",
    "stim_amp_old"
   ]
  },
  {
   "cell_type": "markdown",
   "metadata": {
    "id": "zbaMqufctj_L"
   },
   "source": [
    "Now we loop over each row of the dataframe and define the stimulus as a\n",
    "BiphasicPulse with pulse duration, interphase duration and stimulus duration\n",
    "as set in this row of the dataframe. Set the initial value of the amplitude to\n",
    "1uA.<br>\n",
    "\n",
    "\n",
    "We now want to alter the amplitude so that the model output matches theta\n",
    "as closely as possible. Search amplitudes [0, 300] uA. Stop the search once\n",
    "the amplitudes are within 1uA or within 0.1 of theta. Save the found\n",
    "amplitude for each row. "
   ]
  },
  {
   "cell_type": "code",
   "execution_count": 11,
   "metadata": {
    "colab": {
     "base_uri": "https://localhost:8080/"
    },
    "id": "4pJJ4SkZtkMP",
    "outputId": "1f98c6d0-ef51-49c8-91b5-d5220749dccb"
   },
   "outputs": [
    {
     "data": {
      "text/plain": [
       "[299.70703125,\n",
       " 197.16796875,\n",
       " 136.23046875,\n",
       " 65.33203125,\n",
       " 51.26953125,\n",
       " 44.23828125,\n",
       " 30.17578125,\n",
       " 23.14453125]"
      ]
     },
     "execution_count": 11,
     "metadata": {},
     "output_type": "execute_result"
    }
   ],
   "source": [
    "from pulse2percept.stimuli import BiphasicPulse\n",
    "stim_amp_alt = [] #Array to store found amplitude for each row iteration.\n",
    "for index, row in s06SPEc2.iterrows():\n",
    "    \n",
    "    stim = BiphasicPulse(1, row['pulse_dur'],interphase_dur=row['interphase_dur'],stim_dur=row['stim_dur'],\n",
    "                         cathodic_first=True,electrode=row['electrode'])\n",
    "    \n",
    "    stim_amp_alt.append(model.find_threshold(stim, row['theta'],amp_range=(0, 300), amp_tol=1,bright_tol=0.1))\n",
    "stim_amp_alt"
   ]
  },
  {
   "cell_type": "code",
   "execution_count": 12,
   "metadata": {
    "colab": {
     "base_uri": "https://localhost:8080/",
     "height": 299
    },
    "id": "TsUfIwGCtkk6",
    "outputId": "81527b01-5000-498d-8bc8-71acbdee66c3"
   },
   "outputs": [
    {
     "data": {
      "text/plain": [
       "<AxesSubplot:xlabel='pulse_dur', ylabel='stim_amp'>"
      ]
     },
     "execution_count": 12,
     "metadata": {},
     "output_type": "execute_result"
    },
    {
     "data": {
      "image/png": "[encoded data removed]",
      "text/plain": [
       "<Figure size 432x288 with 1 Axes>"
      ]
     },
     "metadata": {
      "needs_background": "light"
     },
     "output_type": "display_data"
    }
   ],
   "source": [
    "from pulse2percept.viz import scatter_correlation\n",
    "# Plot the threshold current against pulse duration:experiment\n",
    "scatter_correlation(s06SPEc2.pulse_dur, s06SPEc2.stim_amp)"
   ]
  },
  {
   "cell_type": "code",
   "execution_count": 13,
   "metadata": {
    "colab": {
     "base_uri": "https://localhost:8080/",
     "height": 297
    },
    "id": "EaC2bH62vzWM",
    "outputId": "6fb897cc-e13f-44ec-a9d4-cc4c440dbe66"
   },
   "outputs": [
    {
     "data": {
      "text/plain": [
       "<AxesSubplot:xlabel='pulse_dur'>"
      ]
     },
     "execution_count": 13,
     "metadata": {},
     "output_type": "execute_result"
    },
    {
     "data": {
      "image/png": "[encoded data removed]",
      "text/plain": [
       "<Figure size 432x288 with 1 Axes>"
      ]
     },
     "metadata": {
      "needs_background": "light"
     },
     "output_type": "display_data"
    }
   ],
   "source": [
    "# 4.f.Plot the threshold current against pulse duration:Model\n",
    "scatter_correlation(s06SPEc2.pulse_dur, stim_amp_alt)"
   ]
  },
  {
   "cell_type": "code",
   "execution_count": 14,
   "metadata": {
    "colab": {
     "base_uri": "https://localhost:8080/",
     "height": 316
    },
    "id": "jgjlXGcLtlB0",
    "outputId": "2e74d841-11f2-4526-e4bd-6361bcc17a3c"
   },
   "outputs": [
    {
     "data": {
      "text/plain": [
       "Text(0.5, 1.0, 'Threshold Currents Vs Pulse Duration')"
      ]
     },
     "execution_count": 14,
     "metadata": {},
     "output_type": "execute_result"
    },
    {
     "data": {
      "image/png": "[encoded data removed]",
      "text/plain": [
       "<Figure size 432x288 with 1 Axes>"
      ]
     },
     "metadata": {
      "needs_background": "light"
     },
     "output_type": "display_data"
    }
   ],
   "source": [
    "# 4.f.A more sophosticated plotting \n",
    "import matplotlib.pyplot as plt\n",
    "plt.semilogx(s06SPEc2.pulse_dur, s06SPEc2.stim_amp, 's', label='data')\n",
    "plt.semilogx(s06SPEc2.pulse_dur, stim_amp_alt, label='model')\n",
    "plt.xlabel('Pulse Duration (ms)')\n",
    "plt.ylabel('Threshold current (uA)')\n",
    "plt.legend()\n",
    "plt.title('Threshold Currents Vs Pulse Duration')"
   ]
  },
  {
   "cell_type": "code",
   "execution_count": null,
   "metadata": {},
   "outputs": [],
   "source": []
  }
 ],
 "metadata": {
  "colab": {
   "provenance": []
  },
  "kernelspec": {
   "display_name": "Python 3",
   "language": "python",
   "name": "python3"
  },
  "language_info": {
   "codemirror_mode": {
    "name": "ipython",
    "version": 3
   },
   "file_extension": ".py",
   "mimetype": "text/x-python",
   "name": "python",
   "nbconvert_exporter": "python",
   "pygments_lexer": "ipython3",
   "version": "3.8.8"
  }
 },
 "nbformat": 4,
 "nbformat_minor": 1
}
