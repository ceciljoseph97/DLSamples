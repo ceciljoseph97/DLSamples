{
 "cells": [
  {
   "cell_type": "code",
   "execution_count": 3,
   "id": "da439095",
   "metadata": {},
   "outputs": [],
   "source": [
    "import tensorflow as tf\n",
    "from tensorflow.keras import datasets, layers, models\n",
    "import matplotlib.pyplot as plt\n",
    "import numpy as np"
   ]
  },
  {
   "cell_type": "code",
   "execution_count": 4,
   "id": "75707ad9",
   "metadata": {},
   "outputs": [],
   "source": [
    "#Pull the Dataset\n",
    "(X_train, y_train), (X_test,y_test) = datasets.cifar10.load_data()"
   ]
  },
  {
   "cell_type": "code",
   "execution_count": 5,
   "id": "83a8d6c0",
   "metadata": {},
   "outputs": [],
   "source": [
    "#y_train is a 2D array, for our classification having 1D array is good enough. so we will convert this to now 1D array\n",
    "y_train = y_train.reshape(-1,)\n",
    "y_test = y_test.reshape(-1,)"
   ]
  },
  {
   "cell_type": "code",
   "execution_count": 6,
   "id": "0071ee0e",
   "metadata": {},
   "outputs": [],
   "source": [
    "classes = [\"airplane\",\"automobile\",\"bird\",\"cat\",\"deer\",\"dog\",\"frog\",\"horse\",\"ship\",\"truck\"]"
   ]
  },
  {
   "cell_type": "code",
   "execution_count": 7,
   "id": "f7c77309",
   "metadata": {},
   "outputs": [],
   "source": [
    "def plot_sample(X, y, index):\n",
    "    plt.figure(figsize = (5,2))\n",
    "    plt.imshow(X[index])\n",
    "    plt.xlabel(classes[y[index]])"
   ]
  },
  {
   "cell_type": "code",
   "execution_count": 8,
   "id": "e6e088b1",
   "metadata": {},
   "outputs": [
    {
     "data": {
      "image/png": "[encoded data removed]",
      "text/plain": [
       "<Figure size 360x144 with 1 Axes>"
      ]
     },
     "metadata": {
      "needs_background": "light"
     },
     "output_type": "display_data"
    }
   ],
   "source": [
    "plot_sample(X_train, y_train, 8)\n"
   ]
  },
  {
   "cell_type": "code",
   "execution_count": 9,
   "id": "df4a04c8",
   "metadata": {},
   "outputs": [
    {
     "data": {
      "image/png": "[encoded data removed]",
      "text/plain": [
       "<Figure size 360x144 with 1 Axes>"
      ]
     },
     "metadata": {
      "needs_background": "light"
     },
     "output_type": "display_data"
    }
   ],
   "source": [
    "plot_sample(X_train, y_train, 9)"
   ]
  },
  {
   "cell_type": "code",
   "execution_count": 10,
   "id": "ac39080c",
   "metadata": {},
   "outputs": [],
   "source": [
    "#Normalizing the training data\n",
    "X_train = X_train / 255.0\n",
    "#Normalizing the testing data to test it out later\n",
    "X_test = X_test / 255.0"
   ]
  },
  {
   "cell_type": "code",
   "execution_count": 11,
   "id": "dd13fcad",
   "metadata": {},
   "outputs": [
    {
     "name": "stdout",
     "output_type": "stream",
     "text": [
      "Epoch 1/20\n",
      "1563/1563 [==============================] - 57s 36ms/step - loss: 1.8087 - accuracy: 0.3558\n",
      "Epoch 2/20\n",
      "1563/1563 [==============================] - 56s 36ms/step - loss: 1.6191 - accuracy: 0.4284\n",
      "Epoch 3/20\n",
      "1563/1563 [==============================] - 56s 36ms/step - loss: 1.5416 - accuracy: 0.4563\n",
      "Epoch 4/20\n",
      "1563/1563 [==============================] - 58s 37ms/step - loss: 1.4790 - accuracy: 0.4773\n",
      "Epoch 5/20\n",
      "1563/1563 [==============================] - 55s 35ms/step - loss: 1.4280 - accuracy: 0.4975\n",
      "Epoch 6/20\n",
      "1563/1563 [==============================] - 54s 35ms/step - loss: 1.3877 - accuracy: 0.5117\n",
      "Epoch 7/20\n",
      "1563/1563 [==============================] - 55s 35ms/step - loss: 1.3490 - accuracy: 0.5262\n",
      "Epoch 8/20\n",
      "1563/1563 [==============================] - 54s 35ms/step - loss: 1.3124 - accuracy: 0.5388\n",
      "Epoch 9/20\n",
      "1563/1563 [==============================] - 54s 35ms/step - loss: 1.2810 - accuracy: 0.5507\n",
      "Epoch 10/20\n",
      "1563/1563 [==============================] - 55s 35ms/step - loss: 1.2509 - accuracy: 0.5618\n",
      "Epoch 11/20\n",
      "1563/1563 [==============================] - 55s 35ms/step - loss: 1.2188 - accuracy: 0.5716\n",
      "Epoch 12/20\n",
      "1563/1563 [==============================] - 57s 36ms/step - loss: 1.1929 - accuracy: 0.5823\n",
      "Epoch 13/20\n",
      "1563/1563 [==============================] - 55s 35ms/step - loss: 1.1628 - accuracy: 0.5962\n",
      "Epoch 14/20\n",
      "1563/1563 [==============================] - 56s 36ms/step - loss: 1.1352 - accuracy: 0.6018\n",
      "Epoch 15/20\n",
      "1563/1563 [==============================] - 55s 35ms/step - loss: 1.1093 - accuracy: 0.6137\n",
      "Epoch 16/20\n",
      "1563/1563 [==============================] - 54s 34ms/step - loss: 1.0819 - accuracy: 0.6197\n",
      "Epoch 17/20\n",
      "1563/1563 [==============================] - 54s 35ms/step - loss: 1.0571 - accuracy: 0.6302\n",
      "Epoch 18/20\n",
      "1563/1563 [==============================] - 56s 36ms/step - loss: 1.0285 - accuracy: 0.6431\n",
      "Epoch 19/20\n",
      "1563/1563 [==============================] - 58s 37ms/step - loss: 1.0021 - accuracy: 0.6509\n",
      "Epoch 20/20\n",
      "1563/1563 [==============================] - 58s 37ms/step - loss: 0.9762 - accuracy: 0.6614\n"
     ]
    },
    {
     "data": {
      "text/plain": [
       "<keras.callbacks.History at 0x25f28d84a30>"
      ]
     },
     "execution_count": 11,
     "metadata": {},
     "output_type": "execute_result"
    }
   ],
   "source": [
    "#Creating a ANN and training to 20 epochs - 20 mins expected \n",
    "ann = models.Sequential([\n",
    "        layers.Flatten(input_shape=(32,32,3)),\n",
    "        layers.Dense(3000, activation='relu'),\n",
    "        layers.Dense(1000, activation='relu'),\n",
    "        layers.Dense(10, activation='softmax')    \n",
    "    ])\n",
    "\n",
    "ann.compile(optimizer='SGD',\n",
    "              loss='sparse_categorical_crossentropy',\n",
    "              metrics=['accuracy'])\n",
    "\n",
    "ann.fit(X_train, y_train, epochs=20)"
   ]
  },
  {
   "cell_type": "code",
   "execution_count": 12,
   "id": "8006a3f6",
   "metadata": {
    "scrolled": true
   },
   "outputs": [
    {
     "name": "stdout",
     "output_type": "stream",
     "text": [
      "313/313 [==============================] - 3s 9ms/step\n",
      "Classification Report: \n",
      "               precision    recall  f1-score   support\n",
      "\n",
      "           0       0.56      0.60      0.58      1000\n",
      "           1       0.85      0.28      0.42      1000\n",
      "           2       0.38      0.46      0.42      1000\n",
      "           3       0.39      0.24      0.30      1000\n",
      "           4       0.38      0.62      0.47      1000\n",
      "           5       0.37      0.59      0.46      1000\n",
      "           6       0.67      0.50      0.57      1000\n",
      "           7       0.59      0.61      0.60      1000\n",
      "           8       0.69      0.60      0.64      1000\n",
      "           9       0.62      0.56      0.59      1000\n",
      "\n",
      "    accuracy                           0.51     10000\n",
      "   macro avg       0.55      0.51      0.50     10000\n",
      "weighted avg       0.55      0.51      0.50     10000\n",
      "\n"
     ]
    }
   ],
   "source": [
    "from sklearn.metrics import confusion_matrix , classification_report\n",
    "import numpy as np\n",
    "y_pred = ann.predict(X_test)\n",
    "y_pred_classes = [np.argmax(element) for element in y_pred]\n",
    "\n",
    "print(\"Classification Report: \\n\", classification_report(y_test, y_pred_classes))"
   ]
  },
  {
   "cell_type": "code",
   "execution_count": 13,
   "id": "6c530c10",
   "metadata": {},
   "outputs": [],
   "source": [
    "#Now let us build a convolutional neural network to train our images\n",
    "cnn = models.Sequential([\n",
    "    layers.Conv2D(filters=32, kernel_size=(3, 3), activation='relu', input_shape=(32, 32, 3)),\n",
    "    layers.MaxPooling2D((2, 2)),\n",
    "    \n",
    "    layers.Conv2D(filters=64, kernel_size=(3, 3), activation='relu'),\n",
    "    layers.MaxPooling2D((2, 2)),\n",
    "    \n",
    "    layers.Flatten(),\n",
    "    layers.Dense(64, activation='relu'),\n",
    "    layers.Dense(10, activation='softmax')\n",
    "])"
   ]
  },
  {
   "cell_type": "code",
   "execution_count": 14,
   "id": "3289fc86",
   "metadata": {},
   "outputs": [],
   "source": [
    "cnn.compile(optimizer='adam',\n",
    "              loss='sparse_categorical_crossentropy',\n",
    "              metrics=['accuracy'])"
   ]
  },
  {
   "cell_type": "code",
   "execution_count": 15,
   "id": "7b274014",
   "metadata": {},
   "outputs": [
    {
     "name": "stdout",
     "output_type": "stream",
     "text": [
      "Epoch 1/10\n",
      "1563/1563 [==============================] - 26s 16ms/step - loss: 1.4486 - accuracy: 0.4822\n",
      "Epoch 2/10\n",
      "1563/1563 [==============================] - 29s 18ms/step - loss: 1.1095 - accuracy: 0.6098\n",
      "Epoch 3/10\n",
      "1563/1563 [==============================] - 28s 18ms/step - loss: 0.9776 - accuracy: 0.6576\n",
      "Epoch 4/10\n",
      "1563/1563 [==============================] - 26s 17ms/step - loss: 0.8970 - accuracy: 0.6879\n",
      "Epoch 5/10\n",
      "1563/1563 [==============================] - 26s 16ms/step - loss: 0.8290 - accuracy: 0.7122\n",
      "Epoch 6/10\n",
      "1563/1563 [==============================] - 26s 16ms/step - loss: 0.7715 - accuracy: 0.7298\n",
      "Epoch 7/10\n",
      "1563/1563 [==============================] - 26s 17ms/step - loss: 0.7244 - accuracy: 0.7468\n",
      "Epoch 8/10\n",
      "1563/1563 [==============================] - 26s 16ms/step - loss: 0.6798 - accuracy: 0.7632\n",
      "Epoch 9/10\n",
      "1563/1563 [==============================] - 26s 17ms/step - loss: 0.6381 - accuracy: 0.7770\n",
      "Epoch 10/10\n",
      "1563/1563 [==============================] - 28s 18ms/step - loss: 0.5997 - accuracy: 0.7919\n"
     ]
    },
    {
     "data": {
      "text/plain": [
       "<keras.callbacks.History at 0x25f215953a0>"
      ]
     },
     "execution_count": 15,
     "metadata": {},
     "output_type": "execute_result"
    }
   ],
   "source": [
    "cnn.fit(X_train, y_train, epochs=10)"
   ]
  },
  {
   "cell_type": "code",
   "execution_count": 16,
   "id": "954a1de0",
   "metadata": {},
   "outputs": [
    {
     "name": "stdout",
     "output_type": "stream",
     "text": [
      "313/313 [==============================] - 2s 7ms/step - loss: 0.9070 - accuracy: 0.6946\n"
     ]
    },
    {
     "data": {
      "text/plain": [
       "[0.9070003628730774, 0.694599986076355]"
      ]
     },
     "execution_count": 16,
     "metadata": {},
     "output_type": "execute_result"
    }
   ],
   "source": [
    "cnn.evaluate(X_test,y_test)"
   ]
  },
  {
   "cell_type": "code",
   "execution_count": 17,
   "id": "d8b63ef3",
   "metadata": {},
   "outputs": [
    {
     "name": "stdout",
     "output_type": "stream",
     "text": [
      "313/313 [==============================] - 2s 6ms/step\n"
     ]
    },
    {
     "data": {
      "text/plain": [
       "array([[7.3620217e-04, 1.2810198e-03, 7.3131919e-04, 5.5123228e-01,\n",
       "        1.9605078e-04, 4.3968463e-01, 1.8370501e-04, 6.1940606e-05,\n",
       "        5.6761913e-03, 2.1669472e-04],\n",
       "       [3.6052498e-04, 3.5507081e-03, 8.4341406e-07, 2.8041809e-09,\n",
       "        3.9204874e-08, 5.0772143e-12, 7.9045145e-11, 1.3968626e-10,\n",
       "        9.9602306e-01, 6.4885426e-05],\n",
       "       [1.4310658e-01, 1.2540577e-01, 3.4829464e-03, 9.5810485e-04,\n",
       "        3.7842555e-04, 3.5119861e-05, 1.8033797e-05, 5.4699933e-04,\n",
       "        6.8048853e-01, 4.5579433e-02],\n",
       "       [7.8021348e-01, 3.9917808e-03, 1.0073980e-01, 3.3106459e-03,\n",
       "        9.6719123e-02, 6.3160718e-05, 1.1370442e-03, 9.6190963e-03,\n",
       "        4.0239235e-03, 1.8206035e-04],\n",
       "       [1.1553936e-07, 2.1394160e-05, 1.8392062e-02, 1.3598639e-02,\n",
       "        3.7090874e-01, 1.2692423e-03, 5.9579402e-01, 7.8997309e-06,\n",
       "        5.1632010e-06, 2.6911184e-06]], dtype=float32)"
      ]
     },
     "execution_count": 17,
     "metadata": {},
     "output_type": "execute_result"
    }
   ],
   "source": [
    "y_pred = cnn.predict(X_test)\n",
    "y_pred[:5]"
   ]
  },
  {
   "cell_type": "code",
   "execution_count": 18,
   "id": "91920012",
   "metadata": {},
   "outputs": [
    {
     "data": {
      "text/plain": [
       "[3, 8, 8, 0, 6]"
      ]
     },
     "execution_count": 18,
     "metadata": {},
     "output_type": "execute_result"
    }
   ],
   "source": [
    "y_classes = [np.argmax(element) for element in y_pred]\n",
    "y_classes[:5]"
   ]
  },
  {
   "cell_type": "code",
   "execution_count": 19,
   "id": "4cdec19e",
   "metadata": {},
   "outputs": [
    {
     "data": {
      "text/plain": [
       "array([3, 8, 8, 0, 6], dtype=uint8)"
      ]
     },
     "execution_count": 19,
     "metadata": {},
     "output_type": "execute_result"
    }
   ],
   "source": [
    "y_test[:5]"
   ]
  },
  {
   "cell_type": "code",
   "execution_count": 20,
   "id": "027fc5f5",
   "metadata": {},
   "outputs": [
    {
     "data": {
      "image/png": "[encoded data removed]",
      "text/plain": [
       "<Figure size 360x144 with 1 Axes>"
      ]
     },
     "metadata": {
      "needs_background": "light"
     },
     "output_type": "display_data"
    }
   ],
   "source": [
    "plot_sample(X_test, y_test,-1)"
   ]
  },
  {
   "cell_type": "code",
   "execution_count": 21,
   "id": "c7e14613",
   "metadata": {},
   "outputs": [
    {
     "data": {
      "text/plain": [
       "'frog'"
      ]
     },
     "execution_count": 21,
     "metadata": {},
     "output_type": "execute_result"
    }
   ],
   "source": [
    "classes[y_classes[5]]"
   ]
  },
  {
   "cell_type": "code",
   "execution_count": 22,
   "id": "f88fff25",
   "metadata": {},
   "outputs": [
    {
     "data": {
      "text/plain": [
       "'automobile'"
      ]
     },
     "execution_count": 22,
     "metadata": {},
     "output_type": "execute_result"
    }
   ],
   "source": [
    "classes[y_classes[9]]"
   ]
  }
 ],
 "metadata": {
  "kernelspec": {
   "display_name": "Python 3",
   "language": "python",
   "name": "python3"
  },
  "language_info": {
   "codemirror_mode": {
    "name": "ipython",
    "version": 3
   },
   "file_extension": ".py",
   "mimetype": "text/x-python",
   "name": "python",
   "nbconvert_exporter": "python",
   "pygments_lexer": "ipython3",
   "version": "3.8.8"
  }
 },
 "nbformat": 4,
 "nbformat_minor": 5
}
