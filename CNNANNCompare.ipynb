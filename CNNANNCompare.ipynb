{
 "cells": [
  {
   "cell_type": "code",
   "execution_count": 13,
   "id": "da439095",
   "metadata": {},
   "outputs": [],
   "source": [
    "import tensorflow as tf\n",
    "from tensorflow.keras import datasets, layers, models\n",
    "import matplotlib.pyplot as plt\n",
    "import numpy as np\n",
    "from sklearn.metrics import confusion_matrix , classification_report,accuracy_score\n",
    "import numpy as np"
   ]
  },
  {
   "cell_type": "code",
   "execution_count": 8,
   "id": "e6e088b1",
   "metadata": {},
   "outputs": [
    {
     "data": {
      "image/png": "[encoded data removed]",
      "text/plain": [
       "<Figure size 500x200 with 1 Axes>"
      ]
     },
     "metadata": {},
     "output_type": "display_data"
    }
   ],
   "source": [
    "#Pull the Dataset\n",
    "(X_train, y_train), (X_test,y_test) = datasets.cifar10.load_data()\n",
    "\n",
    "\n",
    "#y_train is a 2D array, for our classification having 1D array is good enough. so we will convert this to now 1D array\n",
    "y_train = y_train.reshape(-1,)\n",
    "y_test = y_test.reshape(-1,)\n",
    "\n",
    "classes = [\"airplane\",\"automobile\",\"bird\",\"cat\",\"deer\",\"dog\",\"frog\",\"horse\",\"ship\",\"truck\"]\n",
    "\n",
    "def plot_sample(X, y, index):\n",
    "    plt.figure(figsize = (5,2))\n",
    "    plt.imshow(X[index])\n",
    "    plt.xlabel(classes[y[index]])\n",
    "\n",
    "plot_sample(X_train, y_train, 8)\n"
   ]
  },
  {
   "cell_type": "code",
   "execution_count": 14,
   "id": "ac39080c",
   "metadata": {},
   "outputs": [],
   "source": [
    "#Normalizing the training data\n",
    "X_train = X_train / 255.0\n",
    "#Normalizing the testing data to test it out later\n",
    "X_test = X_test / 255.0"
   ]
  },
  {
   "cell_type": "code",
   "execution_count": 15,
   "id": "a9f34c90",
   "metadata": {},
   "outputs": [
    {
     "name": "stdout",
     "output_type": "stream",
     "text": [
      "Epoch 1/10\n",
      "1563/1563 [==============================] - 72s 46ms/step - loss: 1.8141 - accuracy: 0.3544\n",
      "Epoch 2/10\n",
      "1563/1563 [==============================] - 75s 48ms/step - loss: 1.6251 - accuracy: 0.4261\n",
      "Epoch 3/10\n",
      "1563/1563 [==============================] - 76s 49ms/step - loss: 1.5427 - accuracy: 0.4557\n",
      "Epoch 4/10\n",
      "1563/1563 [==============================] - 80s 51ms/step - loss: 1.4817 - accuracy: 0.4791\n",
      "Epoch 5/10\n",
      "1563/1563 [==============================] - 86s 55ms/step - loss: 1.4328 - accuracy: 0.4960\n",
      "Epoch 6/10\n",
      "1563/1563 [==============================] - 92s 59ms/step - loss: 1.3870 - accuracy: 0.5121\n",
      "Epoch 7/10\n",
      "1563/1563 [==============================] - 92s 59ms/step - loss: 1.3505 - accuracy: 0.5251\n",
      "Epoch 8/10\n",
      "1563/1563 [==============================] - 94s 60ms/step - loss: 1.3162 - accuracy: 0.5359\n",
      "Epoch 9/10\n",
      "1563/1563 [==============================] - 98s 63ms/step - loss: 1.2820 - accuracy: 0.5481\n",
      "Epoch 10/10\n",
      "1563/1563 [==============================] - 101s 64ms/step - loss: 1.2520 - accuracy: 0.5619\n"
     ]
    },
    {
     "data": {
      "text/plain": [
       "<keras.callbacks.History at 0x2e47d0cd850>"
      ]
     },
     "execution_count": 15,
     "metadata": {},
     "output_type": "execute_result"
    }
   ],
   "source": [
    "#Creating a ANN\n",
    "ann = models.Sequential([\n",
    "        layers.Flatten(input_shape=(32,32,3)),\n",
    "        layers.Dense(3000, activation='relu'),\n",
    "        layers.Dense(1000, activation='relu'),\n",
    "        layers.Dense(10, activation='softmax')    \n",
    "    ])\n",
    "\n",
    "ann.compile(optimizer='SGD',\n",
    "              loss='sparse_categorical_crossentropy',\n",
    "              metrics=['accuracy'])\n",
    "\n",
    "ann.fit(X_train, y_train, epochs=10)"
   ]
  },
  {
   "cell_type": "code",
   "execution_count": 22,
   "id": "8006a3f6",
   "metadata": {
    "scrolled": true
   },
   "outputs": [
    {
     "name": "stdout",
     "output_type": "stream",
     "text": [
      "313/313 [==============================] - 4s 12ms/step\n",
      "Classification Report: \n",
      "               precision    recall  f1-score   support\n",
      "\n",
      "           0       0.71      0.35      0.47      1000\n",
      "           1       0.44      0.82      0.57      1000\n",
      "           2       0.53      0.12      0.20      1000\n",
      "           3       0.30      0.51      0.37      1000\n",
      "           4       0.51      0.35      0.41      1000\n",
      "           5       0.50      0.21      0.30      1000\n",
      "           6       0.41      0.76      0.53      1000\n",
      "           7       0.84      0.35      0.49      1000\n",
      "           8       0.45      0.80      0.57      1000\n",
      "           9       0.62      0.33      0.43      1000\n",
      "\n",
      "    accuracy                           0.46     10000\n",
      "   macro avg       0.53      0.46      0.44     10000\n",
      "weighted avg       0.53      0.46      0.44     10000\n",
      "\n",
      "Test Accuracy: 45.97%\n"
     ]
    }
   ],
   "source": [
    "y_pred = ann.predict(X_test)\n",
    "y_pred_classes = [np.argmax(element) for element in y_pred]\n",
    "\n",
    "print(\"Classification Report: \\n\", classification_report(y_test, y_pred_classes))\n",
    "print(\"Test Accuracy: {}%\".format(accuracy_score(y_test,y_pred_classes)*100))"
   ]
  },
  {
   "cell_type": "code",
   "execution_count": 24,
   "id": "6c530c10",
   "metadata": {
    "slideshow": {
     "slide_type": "slide"
    }
   },
   "outputs": [],
   "source": [
    "#Now let us build a convolutional neural network to train our images\n",
    "cnn = models.Sequential([\n",
    "    # First Conv layer\n",
    "    layers.Conv2D(filters=32, kernel_size=(3, 3), activation='relu', input_shape=(32, 32, 3)),\n",
    "    layers.MaxPooling2D((2, 2)),\n",
    "    # Second Conv layer\n",
    "    layers.Conv2D(filters=64, kernel_size=(3, 3), activation='relu'),\n",
    "    layers.MaxPooling2D((2, 2)),\n",
    "    # Fully Connected classifier\n",
    "    layers.Flatten(),\n",
    "    layers.Dense(64, activation='relu'),\n",
    "    layers.Dense(10, activation='softmax')\n",
    "])"
   ]
  },
  {
   "cell_type": "code",
   "execution_count": 25,
   "id": "d8b63ef3",
   "metadata": {},
   "outputs": [
    {
     "name": "stdout",
     "output_type": "stream",
     "text": [
      "Epoch 1/5\n",
      "1563/1563 [==============================] - 26s 16ms/step - loss: 1.4902 - accuracy: 0.4644\n",
      "Epoch 2/5\n",
      "1563/1563 [==============================] - 33s 21ms/step - loss: 1.1369 - accuracy: 0.6005\n",
      "Epoch 3/5\n",
      "1563/1563 [==============================] - 29s 19ms/step - loss: 0.9911 - accuracy: 0.6557\n",
      "Epoch 4/5\n",
      "1563/1563 [==============================] - 30s 19ms/step - loss: 0.8995 - accuracy: 0.6863\n",
      "Epoch 5/5\n",
      "1563/1563 [==============================] - 30s 19ms/step - loss: 0.8316 - accuracy: 0.7113\n"
     ]
    },
    {
     "data": {
      "text/plain": [
       "<keras.callbacks.History at 0x2e403dda070>"
      ]
     },
     "execution_count": 25,
     "metadata": {},
     "output_type": "execute_result"
    }
   ],
   "source": [
    "cnn.compile(optimizer='adam',\n",
    "              loss='sparse_categorical_crossentropy',\n",
    "              metrics=['accuracy'])\n",
    "\n",
    "cnn.fit(X_train, y_train, epochs=5)"
   ]
  },
  {
   "cell_type": "code",
   "execution_count": 27,
   "id": "7cd4fec2",
   "metadata": {},
   "outputs": [
    {
     "name": "stdout",
     "output_type": "stream",
     "text": [
      "313/313 [==============================] - 2s 6ms/step - loss: 0.9279 - accuracy: 0.6830\n",
      "313/313 [==============================] - 2s 6ms/step\n",
      "Classification Report: \n",
      "               precision    recall  f1-score   support\n",
      "\n",
      "           0       0.78      0.70      0.74      1000\n",
      "           1       0.82      0.81      0.82      1000\n",
      "           2       0.65      0.46      0.54      1000\n",
      "           3       0.46      0.59      0.52      1000\n",
      "           4       0.63      0.57      0.60      1000\n",
      "           5       0.62      0.55      0.58      1000\n",
      "           6       0.70      0.80      0.75      1000\n",
      "           7       0.64      0.81      0.72      1000\n",
      "           8       0.77      0.81      0.79      1000\n",
      "           9       0.82      0.73      0.77      1000\n",
      "\n",
      "    accuracy                           0.68     10000\n",
      "   macro avg       0.69      0.68      0.68     10000\n",
      "weighted avg       0.69      0.68      0.68     10000\n",
      "\n",
      "Test Accuracy: 68.30000000000001%\n"
     ]
    }
   ],
   "source": [
    "cnn.evaluate(X_test,y_test)\n",
    "\n",
    "y_pred = cnn.predict(X_test)\n",
    "y_pred_classes = [np.argmax(element) for element in y_pred]\n",
    "\n",
    "print(\"Classification Report: \\n\", classification_report(y_test, y_pred_classes))\n",
    "print(\"Test Accuracy: {}%\".format(accuracy_score(y_test,y_pred_classes)*100))"
   ]
  }
 ],
 "metadata": {
  "celltoolbar": "Slideshow",
  "kernelspec": {
   "display_name": "Python 3 (ipykernel)",
   "language": "python",
   "name": "python3"
  },
  "language_info": {
   "codemirror_mode": {
    "name": "ipython",
    "version": 3
   },
   "file_extension": ".py",
   "mimetype": "text/x-python",
   "name": "python",
   "nbconvert_exporter": "python",
   "pygments_lexer": "ipython3",
   "version": "3.9.13"
  }
 },
 "nbformat": 4,
 "nbformat_minor": 5
}
